{
  "nbformat": 4,
  "nbformat_minor": 0,
  "metadata": {
    "colab": {
      "name": "HandProsthesisLSTM.ipynb",
      "provenance": [],
      "collapsed_sections": []
    },
    "kernelspec": {
      "display_name": "Python 3",
      "name": "python3"
    }
  },
  "cells": [
    {
      "cell_type": "code",
      "metadata": {
        "id": "WSxWsRcE1IGW"
      },
      "source": [
        "import numpy as np\n",
        "from keras.models import Sequential\n",
        "from keras.layers import Dense\n",
        "from keras.layers import LSTM\n",
        "from keras.layers import GRU\n",
        "from keras.layers import SimpleRNN\n",
        "from sklearn.preprocessing import MinMaxScaler\n",
        "from sklearn.utils import shuffle\n",
        "import datetime\n",
        "import csv\n",
        "import matplotlib\n",
        "import matplotlib.pyplot as plt"
      ],
      "execution_count": null,
      "outputs": []
    },
    {
      "cell_type": "code",
      "metadata": {
        "colab": {
          "base_uri": "https://localhost:8080/"
        },
        "id": "FkJ3jnhI6R2r",
        "outputId": "76ee28cc-3efc-408f-e101-9c005dde2573"
      },
      "source": [
        "from google.colab import drive\n",
        "drive.mount('/content/drive')"
      ],
      "execution_count": null,
      "outputs": [
        {
          "output_type": "stream",
          "text": [
            "Mounted at /content/drive\n"
          ],
          "name": "stdout"
        }
      ]
    },
    {
      "cell_type": "code",
      "metadata": {
        "id": "7nPt2HaIn_ul"
      },
      "source": [
        "def read_csv(file_path):\n",
        "    data = list()\n",
        "    with open(file_path, 'r') as file:\n",
        "        reader = csv.reader(file)\n",
        "        next(reader)\n",
        "        for raw in reader:\n",
        "            data.append([float(i) for i in raw])\n",
        "    return data\n",
        "\n",
        "def prepare_data(duration):\n",
        "    input_data = list()\n",
        "    output_data = list()\n",
        "    for i in range(29):\n",
        "        file_path = f\"/content/drive/My Drive/Colab Notebooks/HandProsthesisProject/Paper/Data/filtered/filtered_{i+1}.csv\"\n",
        "        data = read_csv(file_path)\n",
        "        num = len (data) - duration - 1\n",
        "        for j in range(num):\n",
        "            input_data.append([row for row in data[j:j+duration]])\n",
        "            output_data.append(data[j+duration])\n",
        "    return np.array(input_data), np.array(output_data)\n",
        "\n",
        "def split_dataset(data, per):\n",
        "    total_num = len(data)\n",
        "    test_num = total_num * per // 100\n",
        "    train_data = data[0:(total_num - test_num)]\n",
        "    test_data = data[(total_num - test_num):]\n",
        "    return train_data, test_data"
      ],
      "execution_count": null,
      "outputs": []
    },
    {
      "cell_type": "code",
      "metadata": {
        "id": "CrTZPakC1cD6"
      },
      "source": [
        "input_data, output_data = prepare_data(200//4)\n",
        "input_data = np.squeeze(input_data)\n",
        "train_data, test_data = split_dataset(input_data, 15)\n",
        "train_label, test_label = split_dataset(output_data, 15)"
      ],
      "execution_count": null,
      "outputs": []
    },
    {
      "cell_type": "code",
      "metadata": {
        "id": "l-6Nk94T1dO6"
      },
      "source": [
        "def lstm_model():\n",
        "    model = Sequential()\n",
        "    model.add(LSTM(50, activation='relu', input_shape=(200//4, 9)))\n",
        "    model.add(Dense(100, activation='relu'))\n",
        "    model.add(Dense(9))\n",
        "    model.compile(loss='mse', optimizer='adam')\n",
        "    return model\n",
        "\n",
        "def gru_model():\n",
        "    model = Sequential()\n",
        "    model.add(GRU(50, activation='relu', input_shape=(200//4, 9)))\n",
        "    model.add(Dense(100, activation='relu'))\n",
        "    model.add(Dense(9))\n",
        "    model.compile(loss='mse', optimizer='adam')\n",
        "    return model\n",
        "\n",
        "def rnn_model():\n",
        "    model = Sequential()\n",
        "    model.add(SimpleRNN(50, activation='relu', input_shape=(200//4, 9)))\n",
        "    model.add(Dense(100, activation='relu'))\n",
        "    model.add(Dense(9))\n",
        "    model.compile(loss='mse', optimizer='adam')\n",
        "    return model\n"
      ],
      "execution_count": null,
      "outputs": []
    },
    {
      "cell_type": "code",
      "metadata": {
        "id": "9l8FxVzw17ts"
      },
      "source": [
        "n_timesteps = train_data.shape[1]\n",
        "n_features = train_data.shape[2]\n",
        "train_data = train_data.reshape(train_data.shape[0], n_timesteps * n_features)\n",
        "test_data = test_data.reshape(test_data.shape[0], n_timesteps * n_features)\n",
        "NewScale = MinMaxScaler(feature_range=(0,1), copy=True)\n",
        "train_data = NewScale.fit_transform(train_data)\n",
        "test_data = NewScale.fit_transform(test_data)\n",
        "train_label = NewScale.fit_transform(train_label)\n",
        "test_label = NewScale.fit_transform(test_label)\n",
        "train_data = train_data.reshape(train_data.shape[0], n_timesteps, n_features)\n",
        "test_data = test_data.reshape(test_data.shape[0], n_timesteps, n_features)\n",
        "train_data, train_label = shuffle(train_data, train_label, random_state=1)\n",
        "#test_data, test_label = shuffle(test_data, test_label, random_state=1)"
      ],
      "execution_count": null,
      "outputs": []
    },
    {
      "cell_type": "code",
      "metadata": {
        "colab": {
          "base_uri": "https://localhost:8080/"
        },
        "id": "SPf1eIAghABw",
        "outputId": "3fb403c6-fc2d-4314-9fc2-fcbfba7b92bd"
      },
      "source": [
        "#LSTM Network\n",
        "model_1 = lstm_model()\n",
        "model_1.summary()\n",
        "start = datetime.datetime.now()\n",
        "trained_model_1 = model_1.fit(train_data, train_label, batch_size = 32, epochs = 60, verbose=2, validation_split = 0.15)\n",
        "end = datetime.datetime.now()\n",
        "train_time = end - start\n",
        "print(\"train time for lstm is : \",train_time)\n",
        "model_1.save(\"/content/drive/My Drive/Colab Notebooks/HandProsthesisProject/Paper/lstm_model.h5\")"
      ],
      "execution_count": null,
      "outputs": [
        {
          "output_type": "stream",
          "text": [
            "Model: \"sequential\"\n",
            "_________________________________________________________________\n",
            "Layer (type)                 Output Shape              Param #   \n",
            "=================================================================\n",
            "lstm (LSTM)                  (None, 50)                12000     \n",
            "_________________________________________________________________\n",
            "dense (Dense)                (None, 100)               5100      \n",
            "_________________________________________________________________\n",
            "dense_1 (Dense)              (None, 9)                 909       \n",
            "=================================================================\n",
            "Total params: 18,009\n",
            "Trainable params: 18,009\n",
            "Non-trainable params: 0\n",
            "_________________________________________________________________\n",
            "Epoch 1/60\n",
            "7916/7916 - 154s - loss: 8.3620e-04 - val_loss: 4.1447e-04\n",
            "Epoch 2/60\n",
            "7916/7916 - 154s - loss: 3.7148e-04 - val_loss: 3.3511e-04\n",
            "Epoch 3/60\n",
            "7916/7916 - 153s - loss: 2.8487e-04 - val_loss: 2.0122e-04\n",
            "Epoch 4/60\n",
            "7916/7916 - 158s - loss: 1.9908e-04 - val_loss: 1.9952e-04\n",
            "Epoch 5/60\n",
            "7916/7916 - 156s - loss: 1.5824e-04 - val_loss: 1.4163e-04\n",
            "Epoch 6/60\n",
            "7916/7916 - 156s - loss: 1.2245e-04 - val_loss: 1.0238e-04\n",
            "Epoch 7/60\n",
            "7916/7916 - 155s - loss: 9.4721e-05 - val_loss: 9.6096e-05\n",
            "Epoch 8/60\n",
            "7916/7916 - 162s - loss: 7.2472e-05 - val_loss: 6.6965e-05\n",
            "Epoch 9/60\n",
            "7916/7916 - 156s - loss: 5.5673e-05 - val_loss: 9.6572e-05\n",
            "Epoch 10/60\n",
            "7916/7916 - 156s - loss: 4.1770e-05 - val_loss: 5.1750e-05\n",
            "Epoch 11/60\n",
            "7916/7916 - 157s - loss: 3.3697e-05 - val_loss: 3.8373e-05\n",
            "Epoch 12/60\n",
            "7916/7916 - 161s - loss: 2.8781e-05 - val_loss: 2.6953e-05\n",
            "Epoch 13/60\n",
            "7916/7916 - 157s - loss: 2.5341e-05 - val_loss: 3.4880e-05\n",
            "Epoch 14/60\n",
            "7916/7916 - 157s - loss: 2.2960e-05 - val_loss: 1.9024e-05\n",
            "Epoch 15/60\n",
            "7916/7916 - 157s - loss: 2.1663e-05 - val_loss: 2.4961e-05\n",
            "Epoch 16/60\n",
            "7916/7916 - 157s - loss: 2.0563e-05 - val_loss: 1.8047e-05\n",
            "Epoch 17/60\n",
            "7916/7916 - 157s - loss: 1.9498e-05 - val_loss: 6.1780e-05\n",
            "Epoch 18/60\n",
            "7916/7916 - 156s - loss: 1.8942e-05 - val_loss: 2.1051e-05\n",
            "Epoch 19/60\n",
            "7916/7916 - 156s - loss: 1.8411e-05 - val_loss: 1.7578e-05\n",
            "Epoch 20/60\n",
            "7916/7916 - 156s - loss: 1.7689e-05 - val_loss: 2.9816e-05\n",
            "Epoch 21/60\n",
            "7916/7916 - 156s - loss: 1.7240e-05 - val_loss: 1.6690e-05\n",
            "Epoch 22/60\n",
            "7916/7916 - 155s - loss: 1.6800e-05 - val_loss: 1.4050e-05\n",
            "Epoch 23/60\n",
            "7916/7916 - 156s - loss: 1.6456e-05 - val_loss: 2.4902e-05\n",
            "Epoch 24/60\n",
            "7916/7916 - 156s - loss: 1.6125e-05 - val_loss: 2.1630e-05\n",
            "Epoch 25/60\n",
            "7916/7916 - 155s - loss: 1.5702e-05 - val_loss: 1.6482e-05\n",
            "Epoch 26/60\n",
            "7916/7916 - 157s - loss: 1.5420e-05 - val_loss: 2.2692e-05\n",
            "Epoch 27/60\n",
            "7916/7916 - 156s - loss: 1.5147e-05 - val_loss: 2.7284e-05\n",
            "Epoch 28/60\n",
            "7916/7916 - 157s - loss: 1.4808e-05 - val_loss: 2.5752e-05\n",
            "Epoch 29/60\n",
            "7916/7916 - 157s - loss: 1.4687e-05 - val_loss: 2.4886e-05\n",
            "Epoch 30/60\n",
            "7916/7916 - 155s - loss: 1.4488e-05 - val_loss: 1.1461e-05\n",
            "Epoch 31/60\n",
            "7916/7916 - 156s - loss: 1.4259e-05 - val_loss: 1.9727e-05\n",
            "Epoch 32/60\n",
            "7916/7916 - 180s - loss: 1.4056e-05 - val_loss: 2.1307e-05\n",
            "Epoch 33/60\n",
            "7916/7916 - 181s - loss: 1.3740e-05 - val_loss: 1.6626e-05\n",
            "Epoch 34/60\n",
            "7916/7916 - 181s - loss: 1.3566e-05 - val_loss: 2.6522e-05\n",
            "Epoch 35/60\n",
            "7916/7916 - 178s - loss: 1.3299e-05 - val_loss: 1.8279e-05\n",
            "Epoch 36/60\n",
            "7916/7916 - 170s - loss: 1.3145e-05 - val_loss: 1.5942e-05\n",
            "Epoch 37/60\n",
            "7916/7916 - 157s - loss: 1.3207e-05 - val_loss: 1.8086e-05\n",
            "Epoch 38/60\n",
            "7916/7916 - 157s - loss: 1.2908e-05 - val_loss: 1.5212e-05\n",
            "Epoch 39/60\n",
            "7916/7916 - 155s - loss: 1.2791e-05 - val_loss: 1.4379e-05\n",
            "Epoch 40/60\n",
            "7916/7916 - 158s - loss: 1.2628e-05 - val_loss: 3.4458e-05\n",
            "Epoch 41/60\n",
            "7916/7916 - 156s - loss: 1.2487e-05 - val_loss: 1.3829e-05\n",
            "Epoch 42/60\n",
            "7916/7916 - 156s - loss: 1.2291e-05 - val_loss: 1.4803e-05\n",
            "Epoch 43/60\n",
            "7916/7916 - 157s - loss: 1.2218e-05 - val_loss: 1.2912e-05\n",
            "Epoch 44/60\n",
            "7916/7916 - 156s - loss: 1.2179e-05 - val_loss: 3.1040e-05\n",
            "Epoch 45/60\n",
            "7916/7916 - 155s - loss: 1.2016e-05 - val_loss: 1.1271e-05\n",
            "Epoch 46/60\n",
            "7916/7916 - 156s - loss: 1.1902e-05 - val_loss: 1.3028e-05\n",
            "Epoch 47/60\n",
            "7916/7916 - 156s - loss: 1.1825e-05 - val_loss: 1.0682e-05\n",
            "Epoch 48/60\n",
            "7916/7916 - 156s - loss: 1.1593e-05 - val_loss: 2.8819e-05\n",
            "Epoch 49/60\n",
            "7916/7916 - 157s - loss: 1.1713e-05 - val_loss: 1.4721e-05\n",
            "Epoch 50/60\n",
            "7916/7916 - 156s - loss: 1.1458e-05 - val_loss: 1.3723e-05\n",
            "Epoch 51/60\n",
            "7916/7916 - 156s - loss: 1.1394e-05 - val_loss: 1.4696e-05\n",
            "Epoch 52/60\n",
            "7916/7916 - 156s - loss: 1.1221e-05 - val_loss: 2.1143e-05\n",
            "Epoch 53/60\n",
            "7916/7916 - 156s - loss: 1.1192e-05 - val_loss: 1.9950e-05\n",
            "Epoch 54/60\n",
            "7916/7916 - 155s - loss: 1.1199e-05 - val_loss: 1.6225e-05\n",
            "Epoch 55/60\n",
            "7916/7916 - 155s - loss: 1.0965e-05 - val_loss: 1.0996e-05\n",
            "Epoch 56/60\n",
            "7916/7916 - 155s - loss: 1.1166e-05 - val_loss: 1.7439e-05\n",
            "Epoch 57/60\n",
            "7916/7916 - 156s - loss: 1.0759e-05 - val_loss: 1.5735e-05\n",
            "Epoch 58/60\n",
            "7916/7916 - 157s - loss: 1.0696e-05 - val_loss: 1.2444e-05\n",
            "Epoch 59/60\n",
            "7916/7916 - 157s - loss: 1.0606e-05 - val_loss: 1.1049e-05\n",
            "Epoch 60/60\n",
            "7916/7916 - 155s - loss: 1.0562e-05 - val_loss: 1.5304e-05\n",
            "train time for lstm is :  2:38:04.645625\n"
          ],
          "name": "stdout"
        }
      ]
    },
    {
      "cell_type": "code",
      "metadata": {
        "id": "Lr7SpECN1_Rz",
        "colab": {
          "base_uri": "https://localhost:8080/"
        },
        "outputId": "32416299-b6f5-472c-b3d3-5f9c627adc46"
      },
      "source": [
        "from sklearn.metrics import r2_score\n",
        "from sklearn.metrics import mean_squared_error\n",
        "from keras.models import load_model\n",
        "\n",
        "model_1 = load_model('/content/drive/My Drive/Colab Notebooks/HandProsthesisProject/Paper/lstm_model.h5')\n",
        "#test_data, test_label = shuffle(test_data, test_label, random_state=1)\n",
        "prediction_1 = model_1.predict(test_data)\n",
        "\n",
        "start = datetime.datetime.now()\n",
        "test_loss = model_1.evaluate(test_data, test_label)\n",
        "mse = mean_squared_error(test_label[:, 8], prediction_1[:, 8])\n",
        "r2 = r2_score(test_label[:, 8], prediction_1[:, 8])\n",
        "end = datetime.datetime.now()\n",
        "test_time = end - start\n",
        "print(\"test time for lstm is : \",test_time)\n",
        "print('Test - Loss for lstm :', test_loss)\n",
        "print('Test - MSE for lstm :', mse)\n",
        "print('Test - R2 Score for lstm :', r2)"
      ],
      "execution_count": null,
      "outputs": [
        {
          "output_type": "stream",
          "text": [
            "1644/1644 [==============================] - 9s 6ms/step - loss: 2.4033e-04\n",
            "test time for lstm is :  0:00:09.463537\n",
            "Test - Loss for lstm : 0.00024032712099142373\n",
            "Test - MSE for lstm : 0.0006643072606880099\n",
            "Test - R2 Score for lstm : 0.9916720102299793\n"
          ],
          "name": "stdout"
        }
      ]
    },
    {
      "cell_type": "code",
      "metadata": {
        "id": "Es1z_zZv2Egi",
        "colab": {
          "base_uri": "https://localhost:8080/",
          "height": 367
        },
        "outputId": "ea794eeb-014e-4c66-a14b-03ed4b833834"
      },
      "source": [
        "plt.figure(figsize = [10,5])\n",
        "print(prediction_1.shape)\n",
        "plt.plot(prediction_1[10000:13000, 8], label='Prediction', linewidth=1, c='g', linestyle='--')\n",
        "plt.plot(test_label[10000:13000, 8], label='Actual', linewidth=0.5, c='y', linestyle=':')\n",
        "plt.legend(frameon=False)\n",
        "plt.xlabel('Number of Test Data')\n",
        "plt.title(\"LSTM Network\")\n",
        "plt.tick_params(axis=\"both\", which=\"both\", bottom=False, top=False,    \n",
        "                labelbottom=True, left=False, right=False, labelleft=True)   \n",
        "plt.gca().spines[\"top\"].set_alpha(.3)\n",
        "plt.gca().spines[\"bottom\"].set_alpha(.3)\n",
        "plt.gca().spines[\"right\"].set_alpha(.3)\n",
        "plt.gca().spines[\"left\"].set_alpha(.3)\n",
        "plt.savefig('/content/drive/My Drive/Colab Notebooks/HandProsthesisProject/Paper/lstm_prediction.png', dpi = 300)"
      ],
      "execution_count": null,
      "outputs": [
        {
          "output_type": "stream",
          "text": [
            "(52585, 9)\n"
          ],
          "name": "stdout"
        },
        {
          "output_type": "display_data",
          "data": {
            "image/png": "[encoded data removed]",
            "text/plain": [
              "<Figure size 720x360 with 1 Axes>"
            ]
          },
          "metadata": {
            "tags": [],
            "needs_background": "light"
          }
        }
      ]
    },
    {
      "cell_type": "code",
      "metadata": {
        "id": "v-O_UuxFz2vV"
      },
      "source": [
        "# for load a model use this:\n",
        "#from keras.models import load_model\n",
        "#model = load_model('/content/drive/My Drive/Colab Notebooks/HandProsthesisProject/Paper/gru_model.h5')\n",
        "#more information:\n",
        "#https://machinelearningmastery.com/save-load-keras-deep-learning-models/"
      ],
      "execution_count": null,
      "outputs": []
    }
  ]
}