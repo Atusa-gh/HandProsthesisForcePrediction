{
  "nbformat": 4,
  "nbformat_minor": 0,
  "metadata": {
    "colab": {
      "name": "HandProsthesisSimpleRNN.ipynb",
      "provenance": [],
      "collapsed_sections": []
    },
    "kernelspec": {
      "display_name": "Python 3",
      "name": "python3"
    },
    "accelerator": "GPU"
  },
  "cells": [
    {
      "cell_type": "code",
      "metadata": {
        "id": "WSxWsRcE1IGW"
      },
      "source": [
        "import numpy as np\n",
        "from keras.models import Sequential\n",
        "from keras.layers import Dense\n",
        "from keras.layers import LSTM\n",
        "from keras.layers import GRU\n",
        "from keras.layers import SimpleRNN\n",
        "from sklearn.preprocessing import MinMaxScaler\n",
        "from sklearn.utils import shuffle\n",
        "import datetime\n",
        "import csv\n",
        "import matplotlib\n",
        "import matplotlib.pyplot as plt"
      ],
      "execution_count": null,
      "outputs": []
    },
    {
      "cell_type": "code",
      "metadata": {
        "id": "7nPt2HaIn_ul"
      },
      "source": [
        "def read_csv(file_path):\n",
        "    data = list()\n",
        "    with open(file_path, 'r') as file:\n",
        "        reader = csv.reader(file)\n",
        "        next(reader)\n",
        "        for raw in reader:\n",
        "            data.append([float(i) for i in raw])\n",
        "    return data\n",
        "\n",
        "def prepare_data(duration):\n",
        "    input_data = list()\n",
        "    output_data = list()\n",
        "    for i in range(29):\n",
        "        file_path = f\"/content/drive/My Drive/Colab Notebooks/HandProsthesisProject/Paper/Data/filtered/filtered_{i+1}.csv\"\n",
        "        data = read_csv(file_path)\n",
        "        num = len (data) - duration - 3\n",
        "        for j in range(num):\n",
        "            input_data.append([row for row in data[j:j+duration]])\n",
        "            output_data.append(data[j+duration+2])\n",
        "    return np.array(input_data), np.array(output_data)\n",
        "\n",
        "def split_dataset(data, per):\n",
        "    total_num = len(data)\n",
        "    test_num = total_num * per // 100\n",
        "    train_data = data[0:(total_num - test_num)]\n",
        "    test_data = data[(total_num - test_num):]\n",
        "    return train_data, test_data"
      ],
      "execution_count": null,
      "outputs": []
    },
    {
      "cell_type": "code",
      "metadata": {
        "colab": {
          "base_uri": "https://localhost:8080/"
        },
        "id": "CrTZPakC1cD6",
        "outputId": "8738bfe3-e452-478c-8e91-c91cd0901523"
      },
      "source": [
        "from google.colab import drive\n",
        "drive.mount('/content/drive')\n",
        "input_data, output_data = prepare_data(200//4)\n",
        "input_data = np.squeeze(input_data)\n",
        "train_data, test_data = split_dataset(input_data, 15)\n",
        "train_label, test_label = split_dataset(output_data, 15)"
      ],
      "execution_count": null,
      "outputs": [
        {
          "output_type": "stream",
          "text": [
            "Mounted at /content/drive\n"
          ],
          "name": "stdout"
        }
      ]
    },
    {
      "cell_type": "code",
      "metadata": {
        "id": "l-6Nk94T1dO6"
      },
      "source": [
        "def lstm_model():\n",
        "    model = Sequential()\n",
        "    model.add(LSTM(50, activation='relu', input_shape=(200//4, 9)))\n",
        "    model.add(Dense(100, activation='relu'))\n",
        "    model.add(Dense(9))\n",
        "    model.compile(loss='mse', optimizer='adam')\n",
        "    return model\n",
        "\n",
        "def gru_model():\n",
        "    model = Sequential()\n",
        "    model.add(GRU(50, activation='relu', input_shape=(200//4, 9)))\n",
        "    model.add(Dense(100, activation='relu'))\n",
        "    model.add(Dense(9))\n",
        "    model.compile(loss='mse', optimizer='adam')\n",
        "    return model\n",
        "\n",
        "def rnn_model():\n",
        "    model = Sequential()\n",
        "    model.add(SimpleRNN(50, activation='relu', input_shape=(200//4, 9)))\n",
        "    model.add(Dense(100, activation='relu'))\n",
        "    model.add(Dense(9))\n",
        "    model.compile(loss='mse', optimizer='adam')\n",
        "    return model\n"
      ],
      "execution_count": null,
      "outputs": []
    },
    {
      "cell_type": "code",
      "metadata": {
        "id": "9l8FxVzw17ts"
      },
      "source": [
        "n_timesteps = train_data.shape[1]\n",
        "n_features = train_data.shape[2]\n",
        "train_data = train_data.reshape(train_data.shape[0], n_timesteps * n_features)\n",
        "test_data = test_data.reshape(test_data.shape[0], n_timesteps * n_features)\n",
        "NewScale = MinMaxScaler(feature_range=(0,1), copy=True)\n",
        "train_data = NewScale.fit_transform(train_data)\n",
        "test_data = NewScale.fit_transform(test_data)\n",
        "train_label = NewScale.fit_transform(train_label)\n",
        "test_label = NewScale.fit_transform(test_label)\n",
        "train_data = train_data.reshape(train_data.shape[0], n_timesteps, n_features)\n",
        "test_data = test_data.reshape(test_data.shape[0], n_timesteps, n_features)\n",
        "train_data, train_label = shuffle(train_data, train_label, random_state=1)\n",
        "#test_data, test_label = shuffle(test_data, test_label, random_state=1)"
      ],
      "execution_count": null,
      "outputs": []
    },
    {
      "cell_type": "code",
      "metadata": {
        "colab": {
          "base_uri": "https://localhost:8080/"
        },
        "id": "UV3GTil1hnkn",
        "outputId": "15b6b726-d5a7-42a2-9aba-c6632d862a49"
      },
      "source": [
        "#Simple RNN Network\n",
        "model_3 = rnn_model()\n",
        "model_3.summary()\n",
        "start = datetime.datetime.now()\n",
        "trained_model_3 = model_3.fit(train_data, train_label, batch_size = 32, epochs = 60, verbose=2, validation_split = 0.15)\n",
        "end = datetime.datetime.now()\n",
        "train_time = end - start\n",
        "print(\"train time for simple rnn is : \",train_time)\n",
        "model_3.save(\"/content/drive/My Drive/Colab Notebooks/HandProsthesisProject/Paper/simple_rnn_model.h5\")"
      ],
      "execution_count": null,
      "outputs": [
        {
          "output_type": "stream",
          "text": [
            "Model: \"sequential\"\n",
            "_________________________________________________________________\n",
            "Layer (type)                 Output Shape              Param #   \n",
            "=================================================================\n",
            "simple_rnn (SimpleRNN)       (None, 50)                3000      \n",
            "_________________________________________________________________\n",
            "dense (Dense)                (None, 100)               5100      \n",
            "_________________________________________________________________\n",
            "dense_1 (Dense)              (None, 9)                 909       \n",
            "=================================================================\n",
            "Total params: 9,009\n",
            "Trainable params: 9,009\n",
            "Non-trainable params: 0\n",
            "_________________________________________________________________\n",
            "Epoch 1/60\n",
            "7914/7914 - 237s - loss: 9.6060e-04 - val_loss: 2.9370e-04\n",
            "Epoch 2/60\n",
            "7914/7914 - 216s - loss: 2.5431e-04 - val_loss: 2.1280e-04\n",
            "Epoch 3/60\n",
            "7914/7914 - 216s - loss: 2.1378e-04 - val_loss: 1.8388e-04\n",
            "Epoch 4/60\n",
            "7914/7914 - 215s - loss: 1.8956e-04 - val_loss: 1.7654e-04\n",
            "Epoch 5/60\n",
            "7914/7914 - 213s - loss: 1.8131e-04 - val_loss: 1.9383e-04\n",
            "Epoch 6/60\n",
            "7914/7914 - 211s - loss: 1.7788e-04 - val_loss: 1.6683e-04\n",
            "Epoch 7/60\n",
            "7914/7914 - 209s - loss: 1.7332e-04 - val_loss: 1.6949e-04\n",
            "Epoch 8/60\n",
            "7914/7914 - 216s - loss: 1.6826e-04 - val_loss: 1.4904e-04\n",
            "Epoch 9/60\n",
            "7914/7914 - 213s - loss: 1.6607e-04 - val_loss: 1.6062e-04\n",
            "Epoch 10/60\n",
            "7914/7914 - 212s - loss: 1.6378e-04 - val_loss: 1.7131e-04\n",
            "Epoch 11/60\n",
            "7914/7914 - 213s - loss: 1.6277e-04 - val_loss: 1.8676e-04\n",
            "Epoch 12/60\n",
            "7914/7914 - 211s - loss: 1.6187e-04 - val_loss: 1.8322e-04\n",
            "Epoch 13/60\n",
            "7914/7914 - 212s - loss: 1.6091e-04 - val_loss: 1.4866e-04\n",
            "Epoch 14/60\n",
            "7914/7914 - 212s - loss: 1.6049e-04 - val_loss: 1.4664e-04\n",
            "Epoch 15/60\n",
            "7914/7914 - 215s - loss: 1.5969e-04 - val_loss: 1.6443e-04\n",
            "Epoch 16/60\n",
            "7914/7914 - 212s - loss: 1.5926e-04 - val_loss: 1.7070e-04\n",
            "Epoch 17/60\n",
            "7914/7914 - 211s - loss: 1.5850e-04 - val_loss: 1.5791e-04\n",
            "Epoch 18/60\n",
            "7914/7914 - 211s - loss: 1.5809e-04 - val_loss: 1.4998e-04\n",
            "Epoch 19/60\n",
            "7914/7914 - 211s - loss: 1.5860e-04 - val_loss: 1.4597e-04\n",
            "Epoch 20/60\n",
            "7914/7914 - 212s - loss: 1.5724e-04 - val_loss: 1.5988e-04\n",
            "Epoch 21/60\n",
            "7914/7914 - 217s - loss: 1.5747e-04 - val_loss: 1.6774e-04\n",
            "Epoch 22/60\n",
            "7914/7914 - 214s - loss: 1.5675e-04 - val_loss: 1.8581e-04\n",
            "Epoch 23/60\n",
            "7914/7914 - 214s - loss: 1.5594e-04 - val_loss: 1.4550e-04\n",
            "Epoch 24/60\n",
            "7914/7914 - 214s - loss: 1.5562e-04 - val_loss: 1.5805e-04\n",
            "Epoch 25/60\n",
            "7914/7914 - 213s - loss: 1.5455e-04 - val_loss: 1.5782e-04\n",
            "Epoch 26/60\n",
            "7914/7914 - 212s - loss: 1.5436e-04 - val_loss: 1.4821e-04\n",
            "Epoch 27/60\n",
            "7914/7914 - 212s - loss: 1.5382e-04 - val_loss: 1.7279e-04\n",
            "Epoch 28/60\n",
            "7914/7914 - 217s - loss: 1.5304e-04 - val_loss: 1.5030e-04\n",
            "Epoch 29/60\n",
            "7914/7914 - 213s - loss: 1.5313e-04 - val_loss: 1.4380e-04\n",
            "Epoch 30/60\n",
            "7914/7914 - 214s - loss: 1.5312e-04 - val_loss: 1.4711e-04\n",
            "Epoch 31/60\n",
            "7914/7914 - 214s - loss: 1.5261e-04 - val_loss: 1.4546e-04\n",
            "Epoch 32/60\n",
            "7914/7914 - 214s - loss: 1.5227e-04 - val_loss: 1.6222e-04\n",
            "Epoch 33/60\n",
            "7914/7914 - 212s - loss: 1.5204e-04 - val_loss: 1.5706e-04\n",
            "Epoch 34/60\n",
            "7914/7914 - 212s - loss: 1.5158e-04 - val_loss: 1.5028e-04\n",
            "Epoch 35/60\n"
          ],
          "name": "stdout"
        }
      ]
    },
    {
      "cell_type": "code",
      "metadata": {
        "id": "Lr7SpECN1_Rz"
      },
      "source": [
        "from sklearn.metrics import r2_score\n",
        "from sklearn.metrics import mean_squared_error\n",
        "from keras.models import load_model\n",
        "\n",
        "#model_3 = load_model('/content/drive/My Drive/Colab Notebooks/HandProsthesisProject/Paper/simple_rnn_model.h5')\n",
        "\n",
        "#test_data, test_label = shuffle(test_data, test_label, random_state=1)\n",
        "\n",
        "prediction_3 = model_3.predict(test_data)\n",
        "\n",
        "start = datetime.datetime.now()\n",
        "test_loss = model_3.evaluate(test_data, test_label)\n",
        "mse = mean_squared_error(test_label[:, 8], prediction_3[:, 8])\n",
        "r2 = r2_score(test_label[:, 8], prediction_3[:, 8])\n",
        "end = datetime.datetime.now()\n",
        "test_time = end - start\n",
        "print(\"test time for simple rnn is : \",test_time)\n",
        "print('Test - Loss for simple rnn :', test_loss)\n",
        "print('Test - MSE for simple rnn :', mse)\n",
        "print('Test - R2 Score for simple rnn :', r2)"
      ],
      "execution_count": null,
      "outputs": []
    },
    {
      "cell_type": "code",
      "metadata": {
        "id": "BQq3e_mReRg2"
      },
      "source": [
        "plt.figure(figsize = [10,5])\n",
        "print(prediction_3.shape)\n",
        "plt.plot(prediction_3[10000:13000, 8], label='Prediction', linewidth=1, c='g', linestyle='--')\n",
        "plt.plot(test_label[10000:13000, 8], label='Actual', linewidth=0.5, c='y', linestyle=':')\n",
        "plt.legend(frameon=False)\n",
        "plt.xlabel('Number of Test Data')\n",
        "plt.title(\"Simple RNN Network\")\n",
        "plt.tick_params(axis=\"both\", which=\"both\", bottom=False, top=False,    \n",
        "                labelbottom=True, left=False, right=False, labelleft=True)   \n",
        "plt.gca().spines[\"top\"].set_alpha(.3)\n",
        "plt.gca().spines[\"bottom\"].set_alpha(.3)\n",
        "plt.gca().spines[\"right\"].set_alpha(.3)\n",
        "plt.gca().spines[\"left\"].set_alpha(.3)\n",
        "plt.savefig('/content/drive/My Drive/Colab Notebooks/HandProsthesisProject/Paper/simple_rnn_prediction.png', dpi = 600)"
      ],
      "execution_count": null,
      "outputs": []
    },
    {
      "cell_type": "code",
      "metadata": {
        "id": "Es1z_zZv2Egi"
      },
      "source": [
        "plt.figure(figsize = [12,8])\n",
        "plt.plot(prediction_3[0:100, 8], label='Prediction', linewidth=2)\n",
        "plt.plot(test_label[0:100, 8], label='Actual', linewidth=2, linestyle='--')\n",
        "plt.legend(frameon=False)\n",
        "plt.xlabel('Number of Test Data')\n",
        "plt.title(\"Simple RNN Network\")\n",
        "\n",
        "history_3 = trained_model_3.history\n",
        "losses_3 = history_3['loss']\n",
        "val_losses_3 = history_3['val_loss']\n",
        "\n",
        "plt.figure(figsize = [12,8])\n",
        "plt.xlabel('Epochs')\n",
        "plt.ylabel('Loss')\n",
        "plt.plot(losses_3)\n",
        "plt.plot(val_losses_3)\n",
        "plt.legend(['train loss','validation loss'])\n",
        "plt.title(\"Simple RNN Network\")"
      ],
      "execution_count": null,
      "outputs": []
    },
    {
      "cell_type": "code",
      "metadata": {
        "id": "v-O_UuxFz2vV"
      },
      "source": [
        "# for load a model use this:\n",
        "#from keras.models import load_model\n",
        "#model = load_model('/content/drive/My Drive/Colab Notebooks/HandProsthesisProject/Paper/gru_model.h5')\n",
        "#more information:\n",
        "#https://machinelearningmastery.com/save-load-keras-deep-learning-models/"
      ],
      "execution_count": null,
      "outputs": []
    }
  ]
}